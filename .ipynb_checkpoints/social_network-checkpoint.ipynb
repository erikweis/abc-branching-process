{
 "cells": [
  {
   "cell_type": "code",
   "execution_count": 1,
   "id": "23c46346-fafd-4dcf-a1f6-2251ceafd77e",
   "metadata": {},
   "outputs": [],
   "source": [
    "import networkx as nx\n",
    "import pandas as pd\n",
    "import matplotlib.pyplot as plt"
   ]
  },
  {
   "cell_type": "code",
   "execution_count": null,
   "id": "bd9f2bde-b6d3-479e-9953-0a6df4db2844",
   "metadata": {},
   "outputs": [],
   "source": [
    "D = nx.read_weighted_edgelist('data/higgs-social_network.edgelist.gz', create_using=nx.DiGraph)"
   ]
  },
  {
   "cell_type": "code",
   "execution_count": null,
   "id": "80322145-60a0-4a40-8f18-60f3bf46a4b9",
   "metadata": {},
   "outputs": [],
   "source": [
    "print(\"loaded graph\")\n",
    "degrees = [n.degree() for n in D.nodes]\n",
    "plt.hist(degrees,log=True)"
   ]
  }
 ],
 "metadata": {
  "kernelspec": {
   "display_name": "Python 3 (ipykernel)",
   "language": "python",
   "name": "python3"
  },
  "language_info": {
   "codemirror_mode": {
    "name": "ipython",
    "version": 3
   },
   "file_extension": ".py",
   "mimetype": "text/x-python",
   "name": "python",
   "nbconvert_exporter": "python",
   "pygments_lexer": "ipython3",
   "version": "3.9.7"
  }
 },
 "nbformat": 4,
 "nbformat_minor": 5
}
